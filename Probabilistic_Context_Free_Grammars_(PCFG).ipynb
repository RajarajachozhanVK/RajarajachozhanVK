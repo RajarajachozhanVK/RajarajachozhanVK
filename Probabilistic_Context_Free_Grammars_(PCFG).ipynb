{
  "nbformat": 4,
  "nbformat_minor": 0,
  "metadata": {
    "colab": {
      "provenance": [],
      "authorship_tag": "ABX9TyNT8nPxX/DnCCs/W5thWPcz",
      "include_colab_link": true
    },
    "kernelspec": {
      "name": "python3",
      "display_name": "Python 3"
    },
    "language_info": {
      "name": "python"
    }
  },
  "cells": [
    {
      "cell_type": "markdown",
      "metadata": {
        "id": "view-in-github",
        "colab_type": "text"
      },
      "source": [
        "<a href=\"https://colab.research.google.com/github/RajarajachozhanVK/RajarajachozhanVK/blob/main/Probabilistic_Context_Free_Grammars_(PCFG).ipynb\" target=\"_parent\"><img src=\"https://colab.research.google.com/assets/colab-badge.svg\" alt=\"Open In Colab\"/></a>"
      ]
    },
    {
      "cell_type": "markdown",
      "source": [
        "**Introduction to Probabilistic Context-Free Grammars (PCFG)**"
      ],
      "metadata": {
        "id": "0M1TnDtpc8qE"
      }
    },
    {
      "cell_type": "markdown",
      "source": [
        "Aim:\n",
        "To develop Probabilistic Context-Free Grammars (PCFGs) that can handle natural language ambiguity by allocating probability to several parse\n",
        "trees and selecting the most likely one.\n",
        "1. Introduction to Probabilistic Context-Free Grammars (PCFG) in Natural Language Processing:\n",
        "Probabilistic Context-Free Grammars (PCFGs) are an extension of Context-Free Grammars (CFGs) that incorporate probabilities into the\n",
        "production rules. This allows them to handle the inherent ambiguity in natural languages by assigning probabilities to different parse trees and\n",
        "choosing the most likely one. PCFGs are widely used in natural language processing (NLP) for tasks such as syntactic parsing, where the goal\n",
        "is to determine the grammatical structure of a sentence.\n",
        "\n",
        "1.1 Context-Free Grammar (CFG):\n",
        "A CFG consists of a set of production rules that define how symbols in the language can be replaced with other symbols.\n",
        "A CFG is defined by a tuple(𝑁,Σ,𝑃,𝑆):\n",
        "𝑁: A set of non-terminal symbols.\n",
        "Σ: A set of terminal symbols (the actual words).\n",
        "𝑃: A set of production rules.\n",
        "𝑆: A start symbol.\n",
        "\n",
        "\n",
        "1.2 Probabilistic Extension:\n",
        "In a PCFG, each production rule is assigned a probability.\n",
        "The probabilities of all production rules for a given non-terminal symbol sum to 1.\n",
        "The probability of a parse tree is the product of the probabilities of the rules used to generate it.\n",
        "\n",
        "2. Example of a PCFG\n",
        "Consider the following PCFG:\n",
        "  1. S -> NP VP [1.0]\n",
        "  2. VP -> V NP [0.7] | V [0.3]\n",
        "  3. V -> 'eats' [0.5] | 'sleeps' [0.5]\n",
        "  4. NP -> 'John' [0.5] | 'Mary' [0.5]\n",
        "This grammar defines simple sentences with a subject (NP) and a verb phrase (VP).\n",
        "Each production rule has an associated probability.\n",
        "\n",
        "3. Parsing with PCFGs\n",
        "The parsing process involves generating all possible parse trees for a given sentence and then computing the probability of each tree. The tree\n",
        "with the highest probability is typically chosen as the best parse.\n",
        "\n",
        "4. Python Implementation Using NLTK\n",
        "\n",
        "4.1 Importing Libraries:\n",
        "import nltk\n",
        "from nltk import PCFG\n",
        "from nltk.parse import pchart\n",
        "Importing the necessary modules from the NLTK library. PCFG is used to define a probabilistic context-free grammar, and pchart is used\n",
        "for parsing.\n",
        "\n",
        "4.2 Defining a PCFG:\n",
        "pcfg = PCFG.fromstring(\"\"\"\n",
        "  S -> NP VP [1.0]\n",
        "  VP -> V NP [0.7] | V [0.3]\n",
        "  V -> 'eats' [0.5] | 'sleeps' [0.5]\n",
        "  NP -> 'John' [0.5] | 'Mary' [0.5]\n",
        "\"\"\")\n",
        "\n",
        "A probabilistic context-free grammar (PCFG) is defined using PCFG.fromstring.\n",
        "The grammar has rules with associated probabilities. For example, VP -> V NP [0.7] means that a verb phrase (VP) can consist of a verb\n",
        "(V) followed by a noun phrase (NP) with a probability of 0.7.\n",
        "4.3 Creating a Parser:\n",
        "parser = pchart.InsideChartParser(pcfg)\n",
        "An InsideChartParser is created using the defined PCFG. This parser will be used to parse sentences according to the grammar.\n",
        "\n",
        "4.4 Defining a Sentence to Parse:\n",
        "sentence = \"John eats\".split()\n",
        "The sentence \"John eats\" is split into a list of words ['John', 'eats'] for parsing.\n",
        "\n",
        "4.5 Parsing the Sentence and Printing Parse Trees with Probabilities:\n",
        "for tree in parser.parse(sentence):\n",
        "    print(tree)\n",
        "    print(\"Probability:\", tree.prob())\n",
        "(S (NP John) (VP (V eats))) (p=0.075)\n",
        "Probability: 0.075\n",
        "The sentence is parsed using the parser.parse method.\n",
        "For each parse tree generated, the tree structure and its probability are printed.\n",
        "\n",
        "5.6 Additional Function to Compute and Print Probabilities of All Parse Trees:\n",
        "def compute_parse_probabilities(sentence, parser):\n",
        "    print(f\"\\nParsing sentence: {' '.join(sentence)}\")\n",
        "    for tree in parser.parse(sentence):\n",
        "        tree.pretty_print()\n",
        "        print(f\"Probability: {tree.prob()}\\n\")\n",
        "This function takes a sentence and a parser as input.\n",
        "It parses the sentence and prints each parse tree using tree.pretty_print().\n",
        "The probability of each parse tree is also printed.\n",
        "\n",
        "5.7 Example Usage with Multiple Sentences:\n",
        "sentences = [\"John eats\", \"Mary eats\", \"John sleeps\", \"Mary sleeps\"]\n",
        "for sentence in sentences:\n",
        "    compute_parse_probabilities(sentence.split(), parser)\n"
      ],
      "metadata": {
        "id": "q6zXyq6bdBoX"
      }
    },
    {
      "cell_type": "code",
      "source": [
        "import nltk\n",
        "from nltk import PCFG\n",
        "from nltk.parse import pchart"
      ],
      "metadata": {
        "id": "VdjXF91VdyzT"
      },
      "execution_count": 1,
      "outputs": []
    },
    {
      "cell_type": "code",
      "execution_count": 2,
      "metadata": {
        "colab": {
          "base_uri": "https://localhost:8080/"
        },
        "id": "pkpEH9G3byIb",
        "outputId": "fe375213-f19b-4923-eab1-59e4787ced96"
      },
      "outputs": [
        {
          "output_type": "stream",
          "name": "stdout",
          "text": [
            "(S (NP John) (VP (V eats))) (p=0.075)\n",
            "Probability: 0.075\n",
            "\n",
            "Parsing sentence: John eats\n",
            "      S      \n",
            "  ____|___    \n",
            " |        VP \n",
            " |        |   \n",
            " NP       V  \n",
            " |        |   \n",
            "John     eats\n",
            "\n",
            "Probability: 0.075\n",
            "\n",
            "\n",
            "Parsing sentence: Mary eats\n",
            "      S      \n",
            "  ____|___    \n",
            " |        VP \n",
            " |        |   \n",
            " NP       V  \n",
            " |        |   \n",
            "Mary     eats\n",
            "\n",
            "Probability: 0.075\n",
            "\n",
            "\n",
            "Parsing sentence: John sleeps\n",
            "      S        \n",
            "  ____|____     \n",
            " |         VP  \n",
            " |         |    \n",
            " NP        V   \n",
            " |         |    \n",
            "John     sleeps\n",
            "\n",
            "Probability: 0.075\n",
            "\n",
            "\n",
            "Parsing sentence: Mary sleeps\n",
            "      S        \n",
            "  ____|____     \n",
            " |         VP  \n",
            " |         |    \n",
            " NP        V   \n",
            " |         |    \n",
            "Mary     sleeps\n",
            "\n",
            "Probability: 0.075\n",
            "\n"
          ]
        }
      ],
      "source": [
        "# Define a simple PCFG\n",
        "pcfg = PCFG.fromstring(\"\"\"\n",
        "  S -> NP VP [1.0]\n",
        "  VP -> V NP [0.7] | V [0.3]\n",
        "  V -> 'eats' [0.5] | 'sleeps' [0.5]\n",
        "  NP -> 'John' [0.5] | 'Mary' [0.5]\n",
        "\"\"\")\n",
        "# Create a parser using the PCFG\n",
        "parser = pchart.InsideChartParser(pcfg)\n",
        "# Define a sentence to parse\n",
        "sentence = \"John eats\".split()\n",
        "# Parse the sentence and print the parse trees with their probabilities\n",
        "for tree in parser.parse(sentence):\n",
        "    print(tree)\n",
        "    print(\"Probability:\", tree.prob())\n",
        "# Additional function to compute and print probabilities of all parse trees\n",
        "def compute_parse_probabilities(sentence, parser):\n",
        "    print(f\"\\nParsing sentence: {' '.join(sentence)}\")\n",
        "    for tree in parser.parse(sentence):\n",
        "        tree.pretty_print()\n",
        "        print(f\"Probability: {tree.prob()}\\n\")\n",
        "# Example usage with multiple sentences\n",
        "sentences = [\"John eats\", \"Mary eats\", \"John sleeps\", \"Mary sleeps\"]\n",
        "for sentence in sentences:\n",
        "    compute_parse_probabilities(sentence.split(), parser)\n"
      ]
    }
  ]
}